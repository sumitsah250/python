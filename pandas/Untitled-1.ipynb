{
 "cells": [
  {
   "cell_type": "code",
   "execution_count": 9,
   "metadata": {},
   "outputs": [
    {
     "name": "stdout",
     "output_type": "stream",
     "text": [
      "      name  age  height\n",
      "0    sumit    2       5\n",
      "1  aaditya    2       6\n",
      "2    nabin    2       7\n"
     ]
    }
   ],
   "source": [
    "import pandas as pd\n",
    "p=pd.read_csv('industry.csv')\n",
    "\n",
    "# p.head(5)\n",
    "# p.tail(7)\n",
    "\n",
    "l={ \"name\":[\"sumit\",\"aaditya\",\"nabin\"],\"age\":[2,2,2],\"height\":[5,6,7]}\n",
    "\n",
    "# s=pd.DataFrame(l)\n",
    "# print(s)\n",
    "\n",
    "data = {\n",
    "  \"calories\": [420, 380, 390],\n",
    "  \"duration\": [50, 40, 45]\n",
    "}\n",
    "\n",
    "#load data into a DataFrame object:\n",
    "df = pd.DataFrame(l)\n",
    "print(df) \n",
    "\n",
    "\n",
    "\n",
    "\n",
    "\n"
   ]
  }
 ],
 "metadata": {
  "kernelspec": {
   "display_name": "Python 3",
   "language": "python",
   "name": "python3"
  },
  "language_info": {
   "codemirror_mode": {
    "name": "ipython",
    "version": 3
   },
   "file_extension": ".py",
   "mimetype": "text/x-python",
   "name": "python",
   "nbconvert_exporter": "python",
   "pygments_lexer": "ipython3",
   "version": "3.12.3"
  }
 },
 "nbformat": 4,
 "nbformat_minor": 2
}
